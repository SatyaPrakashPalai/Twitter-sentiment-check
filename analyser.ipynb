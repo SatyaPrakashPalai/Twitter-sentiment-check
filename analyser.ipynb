{
  "nbformat": 4,
  "nbformat_minor": 0,
  "metadata": {
    "colab": {
      "provenance": [],
      "authorship_tag": "ABX9TyPR6BkpSx6PVNV62oiJ34eT",
      "include_colab_link": true
    },
    "kernelspec": {
      "name": "python3",
      "display_name": "Python 3"
    },
    "language_info": {
      "name": "python"
    }
  },
  "cells": [
    {
      "cell_type": "markdown",
      "metadata": {
        "id": "view-in-github",
        "colab_type": "text"
      },
      "source": [
        "<a href=\"https://colab.research.google.com/github/haruki25/Sentiment_Analysis/blob/main/analyser.ipynb\" target=\"_parent\"><img src=\"https://colab.research.google.com/assets/colab-badge.svg\" alt=\"Open In Colab\"/></a>"
      ]
    },
    {
      "cell_type": "code",
      "execution_count": null,
      "metadata": {
        "colab": {
          "base_uri": "https://localhost:8080/"
        },
        "id": "QuO0VkH24j6O",
        "outputId": "8f0c0579-6a13-4905-e832-327033a70fe7"
      },
      "outputs": [
        {
          "output_type": "stream",
          "name": "stderr",
          "text": [
            "[nltk_data] Downloading package stopwords to /root/nltk_data...\n",
            "[nltk_data]   Package stopwords is already up-to-date!\n"
          ]
        },
        {
          "output_type": "execute_result",
          "data": {
            "text/plain": [
              "True"
            ]
          },
          "metadata": {},
          "execution_count": 26
        }
      ],
      "source": [
        "import pandas as pd\n",
        "import nltk\n",
        "from sklearn.feature_extraction.text import CountVectorizer\n",
        "from sklearn.naive_bayes import MultinomialNB\n",
        "from sklearn.metrics import accuracy_score, precision_score, recall_score, f1_score, confusion_matrix\n",
        "from sklearn.model_selection import train_test_split\n",
        "import nltk\n",
        "nltk.download('stopwords')"
      ]
    },
    {
      "cell_type": "code",
      "source": [
        "data = pd.read_csv('tweets.csv', header=0, encoding='utf-8')"
      ],
      "metadata": {
        "id": "ErbcgfIz4n2w"
      },
      "execution_count": null,
      "outputs": []
    },
    {
      "cell_type": "code",
      "source": [
        "train_data, val_data, train_labels, val_labels = train_test_split(data['tweet'], data['label'], test_size=0.2, random_state=42)\n",
        "train_labels.head()"
      ],
      "metadata": {
        "colab": {
          "base_uri": "https://localhost:8080/"
        },
        "id": "5DAhwDmk4rX_",
        "outputId": "5d945d43-8c26-4199-b060-29ded74bdbe0"
      },
      "execution_count": null,
      "outputs": [
        {
          "output_type": "execute_result",
          "data": {
            "text/plain": [
              "12110    1\n",
              "14081    0\n",
              "1829     0\n",
              "2769     0\n",
              "31818    0\n",
              "Name: label, dtype: int64"
            ]
          },
          "metadata": {},
          "execution_count": 40
        }
      ]
    },
    {
      "cell_type": "code",
      "source": [
        "stop_words = nltk.corpus.stopwords.words('english')\n",
        "tokenizer = nltk.tokenize.RegexpTokenizer(r'\\w+')\n",
        "vectorizer = CountVectorizer(lowercase=True, stop_words=stop_words, tokenizer=tokenizer.tokenize)\n",
        "train_features = vectorizer.fit_transform(train_data)\n",
        "val_features = vectorizer.transform(val_data)"
      ],
      "metadata": {
        "colab": {
          "base_uri": "https://localhost:8080/"
        },
        "id": "LDrkW3yl4sJh",
        "outputId": "4ea940fb-918e-4738-972a-d62b1b9d4b9f"
      },
      "execution_count": null,
      "outputs": [
        {
          "output_type": "stream",
          "name": "stderr",
          "text": [
            "/usr/local/lib/python3.8/dist-packages/sklearn/feature_extraction/text.py:528: UserWarning: The parameter 'token_pattern' will not be used since 'tokenizer' is not None'\n",
            "  warnings.warn(\n"
          ]
        }
      ]
    },
    {
      "cell_type": "code",
      "source": [
        "clf = MultinomialNB()\n",
        "clf.fit(train_features, train_labels)\n",
        "print(clf.predict(train_features))"
      ],
      "metadata": {
        "colab": {
          "base_uri": "https://localhost:8080/"
        },
        "id": "DORVhF174vDD",
        "outputId": "8adababd-9f93-45ff-d617-88c68acc405b"
      },
      "execution_count": null,
      "outputs": [
        {
          "output_type": "stream",
          "name": "stdout",
          "text": [
            "[0 0 0 ... 1 1 0]\n"
          ]
        }
      ]
    },
    {
      "cell_type": "code",
      "source": [
        "val_pred = clf.predict(val_features)\n",
        "accuracy = accuracy_score(val_labels, val_pred)\n",
        "precision = precision_score(val_labels, val_pred)\n",
        "recall = recall_score(val_labels, val_pred)\n",
        "f1 = f1_score(val_labels, val_pred)\n",
        "cm = confusion_matrix(val_labels, val_pred)"
      ],
      "metadata": {
        "id": "RYwm-wKZ4xen"
      },
      "execution_count": null,
      "outputs": []
    },
    {
      "cell_type": "code",
      "source": [
        "print(f'Accuracy: {accuracy}')\n",
        "print(f'Precision: {precision}')\n",
        "print(f'Recall: {recall}')\n",
        "print(f'F1-score: {f1}')\n",
        "print(f'Confusion matrix: \\n{cm}')"
      ],
      "metadata": {
        "colab": {
          "base_uri": "https://localhost:8080/"
        },
        "id": "-nGn0ue34zue",
        "outputId": "71739455-0904-484a-91cf-87625307ecc8"
      },
      "execution_count": null,
      "outputs": [
        {
          "output_type": "stream",
          "name": "stdout",
          "text": [
            "Accuracy: 0.9588612544971062\n",
            "Precision: 0.8560885608856088\n",
            "Recall: 0.5087719298245614\n",
            "F1-score: 0.6382393397524071\n",
            "Confusion matrix: \n",
            "[[5898   39]\n",
            " [ 224  232]]\n"
          ]
        }
      ]
    },
    {
      "cell_type": "code",
      "source": [
        "test_data = pd.read_csv('test_tweets.csv', header=0, encoding='utf-8')"
      ],
      "metadata": {
        "id": "8-d1Nean44Zi"
      },
      "execution_count": null,
      "outputs": []
    },
    {
      "cell_type": "code",
      "source": [
        "test_features = vectorizer.transform(test_data['tweet'])"
      ],
      "metadata": {
        "id": "c_8KF_oo46B3"
      },
      "execution_count": null,
      "outputs": []
    },
    {
      "cell_type": "code",
      "source": [
        "test_pred = clf.predict(test_features)"
      ],
      "metadata": {
        "id": "4NuoRlEf4-kn"
      },
      "execution_count": null,
      "outputs": []
    },
    {
      "cell_type": "code",
      "source": [
        "test_data['label'] = test_pred\n",
        "test_data.to_csv('test_predictions.csv', index=False)"
      ],
      "metadata": {
        "id": "cbLKDZSG5Awo"
      },
      "execution_count": null,
      "outputs": []
    }
  ]
}